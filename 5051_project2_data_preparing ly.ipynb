{
 "cells": [
  {
   "cell_type": "code",
   "execution_count": 2,
   "metadata": {},
   "outputs": [],
   "source": [
    "import pandas as pd\n",
    "import numpy as np\n",
    "traffic_data2 = pd.read_excel(\"TDCS_M06A_20190830_080000.xlsx\", header=None)\n",
    "traffic_data = pd.read_csv(\"TDCS_M06A_20190830_080000.csv\", header=None)\n",
    "traffic_data.columns = list(traffic_data2.drop([1]).drop(columns = [2]).iloc[0])"
   ]
  },
  {
   "cell_type": "markdown",
   "metadata": {},
   "source": [
    "### Overall Display"
   ]
  },
  {
   "cell_type": "code",
   "execution_count": 3,
   "metadata": {},
   "outputs": [
    {
     "data": {
      "text/plain": [
       "'   Vehicle Type     Derection Time_O GantryID_O      DerectionTime_D GantryID_D  Trip Length Trip End                                            Trip Information\\n0            31  2019-08-30 08:17:14   03F3307N  2019-08-30 08:17:14   03F3307N          5.2        Y                                2019-08-30 08:17:14+03F3307N\\n1            31  2019-08-30 08:01:02   03F0648S  2019-08-30 08:01:02   03F0648S          5.6        Y                                2019-08-30 08:01:02+03F0648S\\n2            31  2019-08-30 08:51:45   03F0648N  2019-08-30 08:57:09   03F0559N         13.9        Y  2019-08-30 08:51:45+03F0648N; 2019-08-30 08:57:09+03F0559N\\n3            31  2019-08-30 08:20:45   03F3854S  2019-08-30 08:20:45   03F3854S          8.6        Y                                2019-08-30 08:20:45+03F3854S\\n4            32  2019-08-30 08:06:10   03F4168S  2019-08-30 08:09:33   03F4232S          9.3        Y  2019-08-30 08:06:10+03F4168S; 2019-08-30 08:09:33+03F4232S'"
      ]
     },
     "execution_count": 3,
     "metadata": {},
     "output_type": "execute_result"
    }
   ],
   "source": [
    "traffic_data.head(5).to_string()"
   ]
  },
  {
   "cell_type": "markdown",
   "metadata": {},
   "source": [
    "### Data of the 1st column"
   ]
  },
  {
   "cell_type": "code",
   "execution_count": 2,
   "metadata": {},
   "outputs": [],
   "source": [
    "lst_vtype = list(traffic_data['Vehicle Type'])\n",
    "lst_cnt = [0 for i in range(max(lst_vtype)+1)]\n",
    "\n",
    "for i in lst_vtype:\n",
    "    lst_cnt[i]+=1\n",
    "\n",
    "dic_vtype = {}\n",
    "for i in lst_cnt:\n",
    "    if i != 0:\n",
    "        dic_vtype[lst_cnt.index(i)] = i"
   ]
  },
  {
   "cell_type": "code",
   "execution_count": 3,
   "metadata": {},
   "outputs": [],
   "source": [
    "per_vtype = ['%4.2f%%'%(i*100) for i in np.array([int(i) for i in dic_vtype.values()])/np.sum(np.array([int(i) for i in dic_vtype.values()]))]\n",
    "# lst_vnames = ['联结車','小客車','小貨車','大客車','大貨車']\n",
    "lst_vnames = ['combination vehicles','taxicab','light delivery truck','bus','goods vehicle']\n",
    "zip(lst_vnames,per_vtype)\n",
    "labels_vtype = [i for i in zip(lst_vnames,per_vtype)]"
   ]
  },
  {
   "cell_type": "code",
   "execution_count": 4,
   "metadata": {},
   "outputs": [
    {
     "data": {
      "text/plain": [
       "([<matplotlib.patches.Wedge at 0x7fd9a14a9350>,\n",
       "  <matplotlib.patches.Wedge at 0x7fd9a14a9910>,\n",
       "  <matplotlib.patches.Wedge at 0x7fd9a14a9e50>,\n",
       "  <matplotlib.patches.Wedge at 0x7fd9a59c83d0>,\n",
       "  <matplotlib.patches.Wedge at 0x7fd9a59c8990>],\n",
       " [Text(1.0903579614622154, 0.1453255513526855, \"('combination vehicles', '4.22%')\"),\n",
       "  Text(-0.7222288926294592, 0.8296899581477561, \"('taxicab', '64.36%')\"),\n",
       "  Text(0.3800034251318425, -1.032277771187614, \"('light delivery truck', '24.06%')\"),\n",
       "  Text(1.0068202395152503, -0.4430722348584419, \"('bus', '1.51%')\"),\n",
       "  Text(1.0815262343857128, -0.20075110045890304, \"('goods vehicle', '5.84%')\")])"
      ]
     },
     "execution_count": 4,
     "metadata": {},
     "output_type": "execute_result"
    },
    {
     "data": {
      "image/png": "[encoded data removed]",
      "text/plain": [
       "<Figure size 432x288 with 1 Axes>"
      ]
     },
     "metadata": {},
     "output_type": "display_data"
    }
   ],
   "source": [
    "import matplotlib.pyplot as plt\n",
    "plt.pie(dic_vtype.values(), labels = labels_vtype)"
   ]
  },
  {
   "cell_type": "markdown",
   "metadata": {},
   "source": [
    "### Data of the 3nd column  \n",
    "- First 5  \n",
    "- Last 5   \n",
    "- Almost exp distribution"
   ]
  },
  {
   "cell_type": "code",
   "execution_count": 24,
   "metadata": {},
   "outputs": [
    {
     "name": "stdout",
     "output_type": "stream",
     "text": [
      "01F3696N    5630\n",
      "01F3640N    3950\n",
      "01F0248S    3673\n",
      "01F0376N    3610\n",
      "01F0339S    3388\n",
      "Name: GantryID_O, dtype: int64\n",
      "05F0439S    24\n",
      "03F2709N    21\n",
      "03F2899N    19\n",
      "03F2747N    17\n",
      "05FR143N     6\n",
      "Name: GantryID_O, dtype: int64\n"
     ]
    },
    {
     "data": {
      "text/plain": [
       "[<matplotlib.lines.Line2D at 0x7fd9a778e2d0>]"
      ]
     },
     "execution_count": 24,
     "metadata": {},
     "output_type": "execute_result"
    },
    {
     "data": {
      "image/png": "[encoded data removed]",
      "text/plain": [
       "<Figure size 432x288 with 1 Axes>"
      ]
     },
     "metadata": {
      "needs_background": "light"
     },
     "output_type": "display_data"
    }
   ],
   "source": [
    "data_gantryid = traffic_data['GantryID_O']\n",
    "set_gid = set(list(data_gantryid))\n",
    "lst_value = [0 for i in range(len(set(list(data_gantryid))))]\n",
    "dic_gid = dict(zip(set_gid,lst_value))\n",
    "print(data_gantryid.value_counts().head(5))\n",
    "print(data_gantryid.value_counts().tail(5))\n",
    "t = pd.DataFrame(data_gantryid.value_counts()).sort_values('GantryID_O',ascending = False)\n",
    "plt.plot(range(len(t)),t['GantryID_O'])"
   ]
  },
  {
   "cell_type": "markdown",
   "metadata": {},
   "source": [
    "### Data of Trip length"
   ]
  },
  {
   "cell_type": "code",
   "execution_count": 23,
   "metadata": {},
   "outputs": [
    {
     "name": "stdout",
     "output_type": "stream",
     "text": [
      "count    259623.000000\n",
      "mean         21.684064\n",
      "std          31.523915\n",
      "min           1.100000\n",
      "25%           6.200000\n",
      "50%          11.900000\n",
      "75%          23.800000\n",
      "max         417.800000\n",
      "Name: Trip Length, dtype: float64\n"
     ]
    },
    {
     "data": {
      "image/png": "[encoded data removed]",
      "text/plain": [
       "<Figure size 432x288 with 1 Axes>"
      ]
     },
     "metadata": {
      "needs_background": "light"
     },
     "output_type": "display_data"
    }
   ],
   "source": [
    "data_tl = traffic_data['Trip Length']\n",
    "lst_tl = list(data_tl)\n",
    "\n",
    "def quick_count_sort(lis):\n",
    "    import collections\n",
    "    \n",
    "    def quick_sort(lis, start, end):\n",
    "        if end > start:\n",
    "            pivot = split(lis, start, end)\n",
    "            quick_sort(lis, start, pivot-1)\n",
    "            quick_sort(lis, pivot+1, end)\n",
    "\n",
    "    def split(lis, start, end):\n",
    "        \n",
    "        pivot = lis[end]\n",
    "        cur = start\n",
    "        for i in range(start, end):\n",
    "            if lis[i] < pivot:\n",
    "                lis[i], lis[cur] = lis[cur], lis[i]\n",
    "                cur += 1\n",
    "        lis[cur], lis[end] = lis[end], lis[cur]\n",
    "        return cur\n",
    "    \n",
    "\n",
    "    record = collections.Counter(lis)\n",
    "    keys = list(record.keys())\n",
    "    \n",
    "    quick_sort(keys, 0, len(keys)-1)\n",
    "\n",
    "    rtn = []\n",
    "    for k in keys:\n",
    "        rtn += [k for i in range(record[k])]\n",
    "\n",
    "    return rtn\n",
    "\n",
    "lst_tl_sorted = quick_count_sort(lst_tl)\n",
    "print(data_tl.describe())\n",
    "plt.hist(lst_tl_sorted, bins = 100)\n",
    "plt.show()"
   ]
  },
  {
   "cell_type": "code",
   "execution_count": 7,
   "metadata": {},
   "outputs": [
    {
     "data": {
      "text/plain": [
       "0        Vehicle Type\n",
       "1    Derection Time_O\n",
       "3          GantryID_O\n",
       "4     DerectionTime_D\n",
       "5          GantryID_D\n",
       "6         Trip Length\n",
       "7            Trip End\n",
       "8    Trip Information\n",
       "Name: 0, dtype: object"
      ]
     },
     "execution_count": 7,
     "metadata": {},
     "output_type": "execute_result"
    }
   ],
   "source": [
    "traffic_data2.drop([1]).drop(columns = [2]).iloc[0]"
   ]
  }
 ],
 "metadata": {
  "kernelspec": {
   "display_name": "Python 3",
   "language": "python",
   "name": "python3"
  },
  "language_info": {
   "codemirror_mode": {
    "name": "ipython",
    "version": 3
   },
   "file_extension": ".py",
   "mimetype": "text/x-python",
   "name": "python",
   "nbconvert_exporter": "python",
   "pygments_lexer": "ipython3",
   "version": "3.8.8"
  }
 },
 "nbformat": 4,
 "nbformat_minor": 2
}
